{
 "cells": [
  {
   "cell_type": "markdown",
   "id": "5b9aa4fc",
   "metadata": {},
   "source": [
    "# ImportTensorFlow "
   ]
  },
  {
   "cell_type": "code",
   "execution_count": 259,
   "id": "591c5579",
   "metadata": {},
   "outputs": [],
   "source": [
    "import tensorflow as tf"
   ]
  },
  {
   "cell_type": "code",
   "execution_count": 260,
   "id": "c999eb4c",
   "metadata": {},
   "outputs": [
    {
     "data": {
      "text/plain": [
       "'2.10.0'"
      ]
     },
     "execution_count": 260,
     "metadata": {},
     "output_type": "execute_result"
    }
   ],
   "source": [
    "tf.__version__"
   ]
  },
  {
   "cell_type": "code",
   "execution_count": 261,
   "id": "90cb045a",
   "metadata": {},
   "outputs": [
    {
     "data": {
      "text/plain": [
       "False"
      ]
     },
     "execution_count": 261,
     "metadata": {},
     "output_type": "execute_result"
    }
   ],
   "source": [
    "tf.test.is_gpu_available()"
   ]
  },
  {
   "cell_type": "code",
   "execution_count": 262,
   "id": "9fa1fa9d",
   "metadata": {},
   "outputs": [],
   "source": [
    "# Create Integer Constant"
   ]
  },
  {
   "cell_type": "code",
   "execution_count": 263,
   "id": "d3b80cf1",
   "metadata": {},
   "outputs": [
    {
     "data": {
      "text/plain": [
       "<tf.Tensor 'Const_14:0' shape=() dtype=int32>"
      ]
     },
     "execution_count": 263,
     "metadata": {},
     "output_type": "execute_result"
    }
   ],
   "source": [
    "a = tf.constant(10)\n",
    "a"
   ]
  },
  {
   "cell_type": "code",
   "execution_count": 264,
   "id": "2e7ee4c1",
   "metadata": {},
   "outputs": [],
   "source": [
    "# Create Float Constant"
   ]
  },
  {
   "cell_type": "code",
   "execution_count": 265,
   "id": "f0c54632",
   "metadata": {},
   "outputs": [
    {
     "data": {
      "text/plain": [
       "<tf.Tensor 'Const_15:0' shape=() dtype=float32>"
      ]
     },
     "execution_count": 265,
     "metadata": {},
     "output_type": "execute_result"
    }
   ],
   "source": [
    "b = tf.constant(10.2)\n",
    "b "
   ]
  },
  {
   "cell_type": "code",
   "execution_count": 266,
   "id": "f3f0ccd1",
   "metadata": {},
   "outputs": [],
   "source": [
    "# Create String Constant"
   ]
  },
  {
   "cell_type": "code",
   "execution_count": 267,
   "id": "4846a263",
   "metadata": {},
   "outputs": [
    {
     "data": {
      "text/plain": [
       "<tf.Tensor 'Const_16:0' shape=() dtype=string>"
      ]
     },
     "execution_count": 267,
     "metadata": {},
     "output_type": "execute_result"
    }
   ],
   "source": [
    "b = tf.constant(\"INDIA\")\n",
    "b"
   ]
  },
  {
   "cell_type": "code",
   "execution_count": 268,
   "id": "aee218d1",
   "metadata": {},
   "outputs": [],
   "source": [
    "# Create Bool Constant"
   ]
  },
  {
   "cell_type": "code",
   "execution_count": 269,
   "id": "0ab599c9",
   "metadata": {},
   "outputs": [
    {
     "data": {
      "text/plain": [
       "<tf.Tensor 'Const_17:0' shape=() dtype=bool>"
      ]
     },
     "execution_count": 269,
     "metadata": {},
     "output_type": "execute_result"
    }
   ],
   "source": [
    "d = tf.constant(True)\n",
    "d"
   ]
  },
  {
   "cell_type": "code",
   "execution_count": 270,
   "id": "64b4db07",
   "metadata": {},
   "outputs": [],
   "source": [
    "# Create Constant Numpy array / List / Tuple"
   ]
  },
  {
   "cell_type": "code",
   "execution_count": 271,
   "id": "929cf48e",
   "metadata": {},
   "outputs": [],
   "source": [
    "import numpy as np"
   ]
  },
  {
   "cell_type": "code",
   "execution_count": 272,
   "id": "5dbd4fa0",
   "metadata": {},
   "outputs": [
    {
     "data": {
      "text/plain": [
       "<tf.Tensor 'Const_18:0' shape=(4,) dtype=int32>"
      ]
     },
     "execution_count": 272,
     "metadata": {},
     "output_type": "execute_result"
    }
   ],
   "source": [
    "np_array = tf.constant(np.array([1,2,3,4]))\n",
    "np_array"
   ]
  },
  {
   "cell_type": "code",
   "execution_count": 273,
   "id": "07037763",
   "metadata": {},
   "outputs": [],
   "source": [
    "#create 1D constant"
   ]
  },
  {
   "cell_type": "code",
   "execution_count": 274,
   "id": "9b440529",
   "metadata": {},
   "outputs": [
    {
     "data": {
      "text/plain": [
       "<tf.Tensor 'Const_19:0' shape=(4,) dtype=int32>"
      ]
     },
     "execution_count": 274,
     "metadata": {},
     "output_type": "execute_result"
    }
   ],
   "source": [
    "t_1d = tf.constant([1,2,3,4])\n",
    "t_1d"
   ]
  },
  {
   "cell_type": "code",
   "execution_count": 275,
   "id": "c45e7aa1",
   "metadata": {},
   "outputs": [],
   "source": [
    "#create 2D constant"
   ]
  },
  {
   "cell_type": "code",
   "execution_count": 276,
   "id": "eed0836b",
   "metadata": {},
   "outputs": [
    {
     "data": {
      "text/plain": [
       "<tf.Tensor 'Const_20:0' shape=(2, 2) dtype=int32>"
      ]
     },
     "execution_count": 276,
     "metadata": {},
     "output_type": "execute_result"
    }
   ],
   "source": [
    "t_2D=tf.constant([[1,2],[3,4]])\n",
    "t_2D"
   ]
  },
  {
   "cell_type": "code",
   "execution_count": 277,
   "id": "9f506bc3",
   "metadata": {},
   "outputs": [
    {
     "data": {
      "text/plain": [
       "<tf.Tensor 'Const_21:0' shape=(2, 2) dtype=int32>"
      ]
     },
     "execution_count": 277,
     "metadata": {},
     "output_type": "execute_result"
    }
   ],
   "source": [
    "t_2d_1 = tf.constant([1,2,3,4], shape =(2,2))\n",
    "t_2d_1"
   ]
  },
  {
   "cell_type": "code",
   "execution_count": 278,
   "id": "e70a3ab6",
   "metadata": {},
   "outputs": [],
   "source": [
    "#Create N-D constant"
   ]
  },
  {
   "cell_type": "code",
   "execution_count": 279,
   "id": "5a869ff5",
   "metadata": {},
   "outputs": [
    {
     "data": {
      "text/plain": [
       "<tf.Tensor 'Const_22:0' shape=(1, 3, 2) dtype=float32>"
      ]
     },
     "execution_count": 279,
     "metadata": {},
     "output_type": "execute_result"
    }
   ],
   "source": [
    "t_3d_1 = tf.constant([[[1,2],[2,3],[4,5]]], dtype=\"float32\")\n",
    "t_3d_1"
   ]
  },
  {
   "cell_type": "markdown",
   "id": "1596b25a",
   "metadata": {},
   "source": [
    "# Import TensorFLOW\n",
    "# Create Tensor"
   ]
  },
  {
   "cell_type": "markdown",
   "id": "48c9695b",
   "metadata": {},
   "source": [
    "import tensorflow as tf"
   ]
  },
  {
   "cell_type": "code",
   "execution_count": 280,
   "id": "e5a7c26e",
   "metadata": {},
   "outputs": [
    {
     "data": {
      "text/plain": [
       "<tf.Variable 'Variable_15:0' shape=() dtype=int32>"
      ]
     },
     "execution_count": 280,
     "metadata": {},
     "output_type": "execute_result"
    }
   ],
   "source": [
    "tf.Variable(1)"
   ]
  },
  {
   "cell_type": "code",
   "execution_count": 281,
   "id": "08a4ddf5",
   "metadata": {},
   "outputs": [
    {
     "data": {
      "text/plain": [
       "<tf.Variable 'Variable_16:0' shape=(4,) dtype=int32>"
      ]
     },
     "execution_count": 281,
     "metadata": {},
     "output_type": "execute_result"
    }
   ],
   "source": [
    "a = tf.Variable([1,2,3,4])\n",
    "a"
   ]
  },
  {
   "cell_type": "code",
   "execution_count": 282,
   "id": "308ac4c4",
   "metadata": {},
   "outputs": [
    {
     "data": {
      "text/plain": [
       "'Variable_16:0'"
      ]
     },
     "execution_count": 282,
     "metadata": {},
     "output_type": "execute_result"
    }
   ],
   "source": [
    "a.name"
   ]
  },
  {
   "cell_type": "code",
   "execution_count": 283,
   "id": "dfb40e05",
   "metadata": {},
   "outputs": [
    {
     "data": {
      "text/plain": [
       "TensorShape([4])"
      ]
     },
     "execution_count": 283,
     "metadata": {},
     "output_type": "execute_result"
    }
   ],
   "source": [
    "a.shape"
   ]
  },
  {
   "cell_type": "code",
   "execution_count": 284,
   "id": "6524ca61",
   "metadata": {},
   "outputs": [
    {
     "data": {
      "text/plain": [
       "tf.int32"
      ]
     },
     "execution_count": 284,
     "metadata": {},
     "output_type": "execute_result"
    }
   ],
   "source": [
    "a.dtype"
   ]
  },
  {
   "cell_type": "code",
   "execution_count": 285,
   "id": "4967e3a0",
   "metadata": {},
   "outputs": [
    {
     "ename": "NotImplementedError",
     "evalue": "numpy() is only available when eager execution is enabled.",
     "output_type": "error",
     "traceback": [
      "\u001b[1;31m---------------------------------------------------------------------------\u001b[0m",
      "\u001b[1;31mNotImplementedError\u001b[0m                       Traceback (most recent call last)",
      "\u001b[1;32m~\\AppData\\Local\\Temp\\ipykernel_14440\\3577467735.py\u001b[0m in \u001b[0;36m<module>\u001b[1;34m\u001b[0m\n\u001b[1;32m----> 1\u001b[1;33m \u001b[0ma\u001b[0m\u001b[1;33m.\u001b[0m\u001b[0mnumpy\u001b[0m\u001b[1;33m(\u001b[0m\u001b[1;33m)\u001b[0m\u001b[1;33m\u001b[0m\u001b[1;33m\u001b[0m\u001b[0m\n\u001b[0m",
      "\u001b[1;32mD:\\conda\\envs\\tensorflow\\lib\\site-packages\\tensorflow\\python\\ops\\resource_variable_ops.py\u001b[0m in \u001b[0;36mnumpy\u001b[1;34m(self)\u001b[0m\n\u001b[0;32m    637\u001b[0m       \u001b[1;32mreturn\u001b[0m \u001b[0mself\u001b[0m\u001b[1;33m.\u001b[0m\u001b[0mread_value\u001b[0m\u001b[1;33m(\u001b[0m\u001b[1;33m)\u001b[0m\u001b[1;33m.\u001b[0m\u001b[0mnumpy\u001b[0m\u001b[1;33m(\u001b[0m\u001b[1;33m)\u001b[0m\u001b[1;33m\u001b[0m\u001b[1;33m\u001b[0m\u001b[0m\n\u001b[0;32m    638\u001b[0m     raise NotImplementedError(\n\u001b[1;32m--> 639\u001b[1;33m         \"numpy() is only available when eager execution is enabled.\")\n\u001b[0m\u001b[0;32m    640\u001b[0m \u001b[1;33m\u001b[0m\u001b[0m\n\u001b[0;32m    641\u001b[0m   \u001b[1;33m@\u001b[0m\u001b[0mdeprecated\u001b[0m\u001b[1;33m(\u001b[0m\u001b[1;32mNone\u001b[0m\u001b[1;33m,\u001b[0m \u001b[1;34m\"Prefer Dataset.range instead.\"\u001b[0m\u001b[1;33m)\u001b[0m\u001b[1;33m\u001b[0m\u001b[1;33m\u001b[0m\u001b[0m\n",
      "\u001b[1;31mNotImplementedError\u001b[0m: numpy() is only available when eager execution is enabled."
     ]
    }
   ],
   "source": [
    "a.numpy()"
   ]
  },
  {
   "cell_type": "code",
   "execution_count": null,
   "id": "4a2c87d0",
   "metadata": {},
   "outputs": [],
   "source": [
    "type(a)"
   ]
  },
  {
   "cell_type": "markdown",
   "id": "9e09b0ed",
   "metadata": {},
   "source": [
    "# create TF using Integer , Float, String , Bool, Complex Number"
   ]
  },
  {
   "cell_type": "code",
   "execution_count": 286,
   "id": "6150b348",
   "metadata": {},
   "outputs": [
    {
     "data": {
      "text/plain": [
       "<tf.Variable 'Variable_17:0' shape=(4,) dtype=float32>"
      ]
     },
     "execution_count": 286,
     "metadata": {},
     "output_type": "execute_result"
    }
   ],
   "source": [
    "t_f=tf.Variable([1.2,4.4,5,6])\n",
    "t_f"
   ]
  },
  {
   "cell_type": "code",
   "execution_count": 287,
   "id": "54582fd4",
   "metadata": {},
   "outputs": [],
   "source": [
    "#create Tf from constant Tensorflow variavle"
   ]
  },
  {
   "cell_type": "code",
   "execution_count": 288,
   "id": "7923eaed",
   "metadata": {},
   "outputs": [
    {
     "data": {
      "text/plain": [
       "<tf.Variable 'Variable_18:0' shape=(4,) dtype=string>"
      ]
     },
     "execution_count": 288,
     "metadata": {},
     "output_type": "execute_result"
    }
   ],
   "source": [
    "t_s=tf.Variable(['a','b','c','d'])\n",
    "t_s"
   ]
  },
  {
   "cell_type": "code",
   "execution_count": 289,
   "id": "ccdf1355",
   "metadata": {},
   "outputs": [
    {
     "data": {
      "text/plain": [
       "<tf.Variable 'Variable_19:0' shape=(2,) dtype=bool>"
      ]
     },
     "execution_count": 289,
     "metadata": {},
     "output_type": "execute_result"
    }
   ],
   "source": [
    "t_b = tf.Variable([True,False])\n",
    "t_b"
   ]
  },
  {
   "cell_type": "code",
   "execution_count": 290,
   "id": "0d40a14e",
   "metadata": {},
   "outputs": [
    {
     "data": {
      "text/plain": [
       "<tf.Variable 'Variable_20:0' shape=(1,) dtype=complex128>"
      ]
     },
     "execution_count": 290,
     "metadata": {},
     "output_type": "execute_result"
    }
   ],
   "source": [
    "t_cx=tf.Variable([3 + 4j])\n",
    "t_cx"
   ]
  },
  {
   "cell_type": "markdown",
   "id": "977c02e0",
   "metadata": {},
   "source": [
    "# Create TF from constant Tensorflow Variable\n"
   ]
  },
  {
   "cell_type": "code",
   "execution_count": 291,
   "id": "bf3c0483",
   "metadata": {},
   "outputs": [
    {
     "data": {
      "text/plain": [
       "<tf.Tensor 'Const_23:0' shape=(4,) dtype=int32>"
      ]
     },
     "execution_count": 291,
     "metadata": {},
     "output_type": "execute_result"
    }
   ],
   "source": [
    "t_con = tf.constant([1,2,3,4])\n",
    "t_con"
   ]
  },
  {
   "cell_type": "code",
   "execution_count": 292,
   "id": "4eb630cd",
   "metadata": {},
   "outputs": [
    {
     "data": {
      "text/plain": [
       "<tf.Variable 'Variable_21:0' shape=(4,) dtype=int32>"
      ]
     },
     "execution_count": 292,
     "metadata": {},
     "output_type": "execute_result"
    }
   ],
   "source": [
    "tf.Variable(t_con)"
   ]
  },
  {
   "cell_type": "markdown",
   "id": "c42eb0fe",
   "metadata": {},
   "source": [
    "# Create TF Variable with different shape"
   ]
  },
  {
   "cell_type": "code",
   "execution_count": 293,
   "id": "d800d400",
   "metadata": {},
   "outputs": [
    {
     "data": {
      "text/plain": [
       "<tf.Variable 'Variable_22:0' shape=(2, 2) dtype=int32>"
      ]
     },
     "execution_count": 293,
     "metadata": {},
     "output_type": "execute_result"
    }
   ],
   "source": [
    "t_2d=tf.Variable([[2,3],[4,5]])\n",
    "t_2d"
   ]
  },
  {
   "cell_type": "code",
   "execution_count": 294,
   "id": "1ffccb7c",
   "metadata": {},
   "outputs": [
    {
     "data": {
      "text/plain": [
       "<tf.Variable 'Variable_23:0' shape=(2, 2) dtype=float32>"
      ]
     },
     "execution_count": 294,
     "metadata": {},
     "output_type": "execute_result"
    }
   ],
   "source": [
    "t_2d_2=tf.Variable([[2,3],[4,5]], shape=(2,2), dtype='float32')\n",
    "t_2d_2"
   ]
  },
  {
   "cell_type": "code",
   "execution_count": 295,
   "id": "d58084be",
   "metadata": {},
   "outputs": [
    {
     "data": {
      "text/plain": [
       "<tf.Variable 'Variable_16:0' shape=(4,) dtype=int32>"
      ]
     },
     "execution_count": 295,
     "metadata": {},
     "output_type": "execute_result"
    }
   ],
   "source": [
    "\n",
    "a"
   ]
  },
  {
   "cell_type": "code",
   "execution_count": 296,
   "id": "f0dee616",
   "metadata": {},
   "outputs": [
    {
     "data": {
      "text/plain": [
       "<tf.Tensor 'Reshape:0' shape=(2, 2) dtype=int32>"
      ]
     },
     "execution_count": 296,
     "metadata": {},
     "output_type": "execute_result"
    }
   ],
   "source": [
    "tf.reshape(a, (2,2))"
   ]
  },
  {
   "cell_type": "markdown",
   "id": "d0438f44",
   "metadata": {},
   "source": [
    "# Get index of highest value"
   ]
  },
  {
   "cell_type": "code",
   "execution_count": 297,
   "id": "60cff027",
   "metadata": {},
   "outputs": [
    {
     "data": {
      "text/plain": [
       "<tf.Variable 'Variable_23:0' shape=(2, 2) dtype=float32>"
      ]
     },
     "execution_count": 297,
     "metadata": {},
     "output_type": "execute_result"
    }
   ],
   "source": [
    "t_2d_2"
   ]
  },
  {
   "cell_type": "code",
   "execution_count": 298,
   "id": "3ef163a9",
   "metadata": {},
   "outputs": [
    {
     "data": {
      "text/plain": [
       "<tf.Tensor 'ArgMax:0' shape=(2,) dtype=int64>"
      ]
     },
     "execution_count": 298,
     "metadata": {},
     "output_type": "execute_result"
    }
   ],
   "source": [
    "tf.argmax(t_2d_2)"
   ]
  },
  {
   "cell_type": "code",
   "execution_count": 299,
   "id": "ee194f04",
   "metadata": {},
   "outputs": [
    {
     "ename": "AttributeError",
     "evalue": "'Tensor' object has no attribute 'numpy'",
     "output_type": "error",
     "traceback": [
      "\u001b[1;31m---------------------------------------------------------------------------\u001b[0m",
      "\u001b[1;31mAttributeError\u001b[0m                            Traceback (most recent call last)",
      "\u001b[1;32m~\\AppData\\Local\\Temp\\ipykernel_14440\\3333023446.py\u001b[0m in \u001b[0;36m<module>\u001b[1;34m\u001b[0m\n\u001b[1;32m----> 1\u001b[1;33m \u001b[0mtf\u001b[0m\u001b[1;33m.\u001b[0m\u001b[0margmax\u001b[0m\u001b[1;33m(\u001b[0m\u001b[0mt_2d_2\u001b[0m\u001b[1;33m)\u001b[0m\u001b[1;33m.\u001b[0m\u001b[0mnumpy\u001b[0m\u001b[1;33m(\u001b[0m\u001b[1;33m)\u001b[0m\u001b[1;33m\u001b[0m\u001b[1;33m\u001b[0m\u001b[0m\n\u001b[0m",
      "\u001b[1;32mD:\\conda\\envs\\tensorflow\\lib\\site-packages\\tensorflow\\python\\framework\\ops.py\u001b[0m in \u001b[0;36m__getattr__\u001b[1;34m(self, name)\u001b[0m\n\u001b[0;32m    444\u001b[0m         \u001b[0mnp_config\u001b[0m\u001b[1;33m.\u001b[0m\u001b[0menable_numpy_behavior\u001b[0m\u001b[1;33m(\u001b[0m\u001b[1;33m)\u001b[0m\u001b[1;33m\u001b[0m\u001b[1;33m\u001b[0m\u001b[0m\n\u001b[0;32m    445\u001b[0m       \"\"\")\n\u001b[1;32m--> 446\u001b[1;33m     \u001b[0mself\u001b[0m\u001b[1;33m.\u001b[0m\u001b[0m__getattribute__\u001b[0m\u001b[1;33m(\u001b[0m\u001b[0mname\u001b[0m\u001b[1;33m)\u001b[0m\u001b[1;33m\u001b[0m\u001b[1;33m\u001b[0m\u001b[0m\n\u001b[0m\u001b[0;32m    447\u001b[0m \u001b[1;33m\u001b[0m\u001b[0m\n\u001b[0;32m    448\u001b[0m   \u001b[1;33m@\u001b[0m\u001b[0mstaticmethod\u001b[0m\u001b[1;33m\u001b[0m\u001b[1;33m\u001b[0m\u001b[0m\n",
      "\u001b[1;31mAttributeError\u001b[0m: 'Tensor' object has no attribute 'numpy'"
     ]
    }
   ],
   "source": [
    "tf.argmax(t_2d_2).numpy()"
   ]
  },
  {
   "cell_type": "markdown",
   "id": "afcbb376",
   "metadata": {},
   "source": [
    "# Viewed/convert as a tensor"
   ]
  },
  {
   "cell_type": "code",
   "execution_count": 300,
   "id": "51651594",
   "metadata": {},
   "outputs": [
    {
     "data": {
      "text/plain": [
       "<tf.Variable 'Variable_16:0' shape=(4,) dtype=int32>"
      ]
     },
     "execution_count": 300,
     "metadata": {},
     "output_type": "execute_result"
    }
   ],
   "source": [
    "a"
   ]
  },
  {
   "cell_type": "code",
   "execution_count": 301,
   "id": "726a8389",
   "metadata": {},
   "outputs": [
    {
     "data": {
      "text/plain": [
       "<tf.Tensor 'ReadVariableOp:0' shape=(4,) dtype=int32>"
      ]
     },
     "execution_count": 301,
     "metadata": {},
     "output_type": "execute_result"
    }
   ],
   "source": [
    "tf.convert_to_tensor(a)"
   ]
  },
  {
   "cell_type": "code",
   "execution_count": 302,
   "id": "1981000c",
   "metadata": {},
   "outputs": [
    {
     "data": {
      "text/plain": [
       "<tf.Tensor 'ReadVariableOp_1:0' shape=(2, 2) dtype=float32>"
      ]
     },
     "execution_count": 302,
     "metadata": {},
     "output_type": "execute_result"
    }
   ],
   "source": [
    "tf.convert_to_tensor(t_2d_2)"
   ]
  },
  {
   "cell_type": "markdown",
   "id": "29a060d6",
   "metadata": {},
   "source": [
    "# change/Assign new value to tensor"
   ]
  },
  {
   "cell_type": "code",
   "execution_count": 303,
   "id": "320f9152",
   "metadata": {},
   "outputs": [
    {
     "data": {
      "text/plain": [
       "<tf.Variable 'Variable_16:0' shape=(4,) dtype=int32>"
      ]
     },
     "execution_count": 303,
     "metadata": {},
     "output_type": "execute_result"
    }
   ],
   "source": [
    "a"
   ]
  },
  {
   "cell_type": "code",
   "execution_count": 304,
   "id": "bab76ee2",
   "metadata": {},
   "outputs": [
    {
     "data": {
      "text/plain": [
       "<tf.Variable 'AssignVariableOp' shape=(4,) dtype=int32>"
      ]
     },
     "execution_count": 304,
     "metadata": {},
     "output_type": "execute_result"
    }
   ],
   "source": [
    "a.assign([4,6,2,8])"
   ]
  },
  {
   "cell_type": "code",
   "execution_count": 305,
   "id": "0d1a4cdb",
   "metadata": {},
   "outputs": [
    {
     "data": {
      "text/plain": [
       "<tf.Variable 'Variable_16:0' shape=(4,) dtype=int32>"
      ]
     },
     "execution_count": 305,
     "metadata": {},
     "output_type": "execute_result"
    }
   ],
   "source": [
    "a"
   ]
  },
  {
   "cell_type": "markdown",
   "id": "c4ace21b",
   "metadata": {},
   "source": [
    "# Assign variable with another memory"
   ]
  },
  {
   "cell_type": "code",
   "execution_count": 306,
   "id": "18654085",
   "metadata": {},
   "outputs": [
    {
     "data": {
      "text/plain": [
       "<tf.Variable 'AssignAddVariableOp' shape=(4,) dtype=int32>"
      ]
     },
     "execution_count": 306,
     "metadata": {},
     "output_type": "execute_result"
    }
   ],
   "source": [
    "a.assign_add([4,6,2,8])"
   ]
  },
  {
   "cell_type": "markdown",
   "id": "1cd5f251",
   "metadata": {},
   "source": [
    "# Can't change shape and Data Type"
   ]
  },
  {
   "cell_type": "code",
   "execution_count": 307,
   "id": "d61e6f55",
   "metadata": {},
   "outputs": [
    {
     "ename": "ValueError",
     "evalue": "Cannot assign value to variable ' Variable_16:0': Shape mismatch.The variable shape (4,), and the assigned value shape (5,) are incompatible.",
     "output_type": "error",
     "traceback": [
      "\u001b[1;31m---------------------------------------------------------------------------\u001b[0m",
      "\u001b[1;31mValueError\u001b[0m                                Traceback (most recent call last)",
      "\u001b[1;32m~\\AppData\\Local\\Temp\\ipykernel_14440\\710744100.py\u001b[0m in \u001b[0;36m<module>\u001b[1;34m\u001b[0m\n\u001b[1;32m----> 1\u001b[1;33m \u001b[0ma\u001b[0m\u001b[1;33m.\u001b[0m\u001b[0massign\u001b[0m\u001b[1;33m(\u001b[0m\u001b[1;33m[\u001b[0m\u001b[1;36m4\u001b[0m\u001b[1;33m,\u001b[0m\u001b[1;36m6\u001b[0m\u001b[1;33m,\u001b[0m\u001b[1;36m2\u001b[0m\u001b[1;33m,\u001b[0m\u001b[1;36m8\u001b[0m\u001b[1;33m,\u001b[0m\u001b[1;36m7\u001b[0m\u001b[1;33m]\u001b[0m\u001b[1;33m)\u001b[0m\u001b[1;33m\u001b[0m\u001b[1;33m\u001b[0m\u001b[0m\n\u001b[0m",
      "\u001b[1;32mD:\\conda\\envs\\tensorflow\\lib\\site-packages\\tensorflow\\python\\ops\\resource_variable_ops.py\u001b[0m in \u001b[0;36massign\u001b[1;34m(self, value, use_locking, name, read_value)\u001b[0m\n\u001b[0;32m    930\u001b[0m           \u001b[0mtensor_name\u001b[0m \u001b[1;33m=\u001b[0m \u001b[1;34m\" \"\u001b[0m \u001b[1;33m+\u001b[0m \u001b[0mstr\u001b[0m\u001b[1;33m(\u001b[0m\u001b[0mself\u001b[0m\u001b[1;33m.\u001b[0m\u001b[0mname\u001b[0m\u001b[1;33m)\u001b[0m\u001b[1;33m\u001b[0m\u001b[1;33m\u001b[0m\u001b[0m\n\u001b[0;32m    931\u001b[0m         raise ValueError(\n\u001b[1;32m--> 932\u001b[1;33m             (f\"Cannot assign value to variable '{tensor_name}': Shape mismatch.\"\n\u001b[0m\u001b[0;32m    933\u001b[0m              \u001b[1;34mf\"The variable shape {self._shape}, and the \"\u001b[0m\u001b[1;33m\u001b[0m\u001b[1;33m\u001b[0m\u001b[0m\n\u001b[0;32m    934\u001b[0m              f\"assigned value shape {value_tensor.shape} are incompatible.\"))\n",
      "\u001b[1;31mValueError\u001b[0m: Cannot assign value to variable ' Variable_16:0': Shape mismatch.The variable shape (4,), and the assigned value shape (5,) are incompatible."
     ]
    }
   ],
   "source": [
    "a.assign([4,6,2,8,7])"
   ]
  },
  {
   "cell_type": "markdown",
   "id": "44fbb236",
   "metadata": {},
   "source": [
    "#  How to Create Placeholder in TensorFlow2"
   ]
  },
  {
   "cell_type": "markdown",
   "id": "4ca4fa5a",
   "metadata": {},
   "source": [
    "syntax: tf.compat.v1.placeholder(dtype,shape=None,name=None)"
   ]
  },
  {
   "cell_type": "markdown",
   "id": "89b4306e",
   "metadata": {},
   "source": [
    "# import TensorFlow 2"
   ]
  },
  {
   "cell_type": "code",
   "execution_count": 308,
   "id": "86ef3670",
   "metadata": {},
   "outputs": [],
   "source": [
    "import tensorflow as tf"
   ]
  },
  {
   "cell_type": "code",
   "execution_count": 309,
   "id": "d8047565",
   "metadata": {},
   "outputs": [],
   "source": [
    "tf.compat.v1.disable_eager_execution()"
   ]
  },
  {
   "cell_type": "markdown",
   "id": "00f51aa4",
   "metadata": {},
   "source": [
    "# Create Placeholder"
   ]
  },
  {
   "cell_type": "code",
   "execution_count": 310,
   "id": "c72acdd5",
   "metadata": {},
   "outputs": [
    {
     "data": {
      "text/plain": [
       "<tf.Tensor 'Placeholder_2:0' shape=(400, 400) dtype=float32>"
      ]
     },
     "execution_count": 310,
     "metadata": {},
     "output_type": "execute_result"
    }
   ],
   "source": [
    "a = tf.compat.v1.placeholder(dtype=tf.float32,shape=(400,400))\n",
    "a"
   ]
  },
  {
   "cell_type": "code",
   "execution_count": 311,
   "id": "219e118a",
   "metadata": {},
   "outputs": [
    {
     "data": {
      "text/plain": [
       "<tf.Tensor 'Placeholder_3:0' shape=(400, 400) dtype=float32>"
      ]
     },
     "execution_count": 311,
     "metadata": {},
     "output_type": "execute_result"
    }
   ],
   "source": [
    "b = tf.compat.v1.placeholder(dtype=tf.float32,shape=(400,400))\n",
    "b"
   ]
  },
  {
   "cell_type": "markdown",
   "id": "3750e15b",
   "metadata": {},
   "source": [
    "# Perform mathematical operation with placeholder"
   ]
  },
  {
   "cell_type": "code",
   "execution_count": 312,
   "id": "8475f69f",
   "metadata": {},
   "outputs": [
    {
     "data": {
      "text/plain": [
       "<tf.Tensor 'Add_22:0' shape=(400, 400) dtype=float32>"
      ]
     },
     "execution_count": 312,
     "metadata": {},
     "output_type": "execute_result"
    }
   ],
   "source": [
    "c = tf.add(a,b)\n",
    "c"
   ]
  },
  {
   "cell_type": "markdown",
   "id": "50fbaa58",
   "metadata": {},
   "source": [
    "\n",
    "# Create Numpy Array"
   ]
  },
  {
   "cell_type": "code",
   "execution_count": 313,
   "id": "6ca8c486",
   "metadata": {},
   "outputs": [],
   "source": [
    "import numpy as np"
   ]
  },
  {
   "cell_type": "code",
   "execution_count": 314,
   "id": "0c630282",
   "metadata": {},
   "outputs": [
    {
     "data": {
      "text/plain": [
       "array([[1., 1., 1., ..., 1., 1., 1.],\n",
       "       [1., 1., 1., ..., 1., 1., 1.],\n",
       "       [1., 1., 1., ..., 1., 1., 1.],\n",
       "       ...,\n",
       "       [1., 1., 1., ..., 1., 1., 1.],\n",
       "       [1., 1., 1., ..., 1., 1., 1.],\n",
       "       [1., 1., 1., ..., 1., 1., 1.]], dtype=float32)"
      ]
     },
     "execution_count": 314,
     "metadata": {},
     "output_type": "execute_result"
    }
   ],
   "source": [
    "ones_array = np.ones((400,400) , np.float32)\n",
    "ones_array"
   ]
  },
  {
   "cell_type": "markdown",
   "id": "a00f4957",
   "metadata": {},
   "source": [
    "# Execute Tensorflow Placeholder using session"
   ]
  },
  {
   "cell_type": "code",
   "execution_count": 315,
   "id": "7c7bcc16",
   "metadata": {},
   "outputs": [],
   "source": [
    "with tf.compat.v1.Session() as sess:\n",
    "    d = sess.run(c, feed_dict={a:ones_array,b:ones_array})"
   ]
  },
  {
   "cell_type": "code",
   "execution_count": 316,
   "id": "ba4bf62f",
   "metadata": {},
   "outputs": [
    {
     "data": {
      "text/plain": [
       "array([[2., 2., 2., ..., 2., 2., 2.],\n",
       "       [2., 2., 2., ..., 2., 2., 2.],\n",
       "       [2., 2., 2., ..., 2., 2., 2.],\n",
       "       ...,\n",
       "       [2., 2., 2., ..., 2., 2., 2.],\n",
       "       [2., 2., 2., ..., 2., 2., 2.],\n",
       "       [2., 2., 2., ..., 2., 2., 2.]], dtype=float32)"
      ]
     },
     "execution_count": 316,
     "metadata": {},
     "output_type": "execute_result"
    }
   ],
   "source": [
    "d"
   ]
  },
  {
   "cell_type": "code",
   "execution_count": 317,
   "id": "1fa6306a",
   "metadata": {},
   "outputs": [
    {
     "data": {
      "text/plain": [
       "numpy.ndarray"
      ]
     },
     "execution_count": 317,
     "metadata": {},
     "output_type": "execute_result"
    }
   ],
   "source": [
    "type(d)"
   ]
  },
  {
   "cell_type": "markdown",
   "id": "48950b49",
   "metadata": {},
   "source": [
    "# Sparse Tensor"
   ]
  },
  {
   "cell_type": "markdown",
   "id": "2b2cc5e9",
   "metadata": {},
   "source": [
    "tensor that conatin mostly zero values are called sparse tensor"
   ]
  },
  {
   "cell_type": "markdown",
   "id": "132bb9b0",
   "metadata": {},
   "source": [
    "# synntax of Sparse Tensor"
   ]
  },
  {
   "cell_type": "code",
   "execution_count": 318,
   "id": "c10c4d26",
   "metadata": {},
   "outputs": [
    {
     "ename": "NameError",
     "evalue": "name 'indices' is not defined",
     "output_type": "error",
     "traceback": [
      "\u001b[1;31m---------------------------------------------------------------------------\u001b[0m",
      "\u001b[1;31mNameError\u001b[0m                                 Traceback (most recent call last)",
      "\u001b[1;32m~\\AppData\\Local\\Temp\\ipykernel_14440\\3701678496.py\u001b[0m in \u001b[0;36m<module>\u001b[1;34m\u001b[0m\n\u001b[1;32m----> 1\u001b[1;33m \u001b[0mtf\u001b[0m\u001b[1;33m.\u001b[0m\u001b[0msparse\u001b[0m\u001b[1;33m.\u001b[0m\u001b[0mSparseTensor\u001b[0m\u001b[1;33m(\u001b[0m\u001b[0mindices\u001b[0m\u001b[1;33m,\u001b[0m\u001b[0mvalues\u001b[0m\u001b[1;33m,\u001b[0m\u001b[0mdense_shape\u001b[0m\u001b[1;33m)\u001b[0m\u001b[1;33m\u001b[0m\u001b[1;33m\u001b[0m\u001b[0m\n\u001b[0m",
      "\u001b[1;31mNameError\u001b[0m: name 'indices' is not defined"
     ]
    }
   ],
   "source": [
    "tf.sparse.SparseTensor(indices,values,dense_shape)"
   ]
  },
  {
   "cell_type": "markdown",
   "id": "92201897",
   "metadata": {},
   "source": [
    "# import TensorFlow 2.X"
   ]
  },
  {
   "cell_type": "code",
   "execution_count": 319,
   "id": "fd04011f",
   "metadata": {},
   "outputs": [],
   "source": [
    "import tensorflow as tf"
   ]
  },
  {
   "cell_type": "code",
   "execution_count": 320,
   "id": "e25af20b",
   "metadata": {},
   "outputs": [
    {
     "data": {
      "text/plain": [
       "<tensorflow.python.framework.sparse_tensor.SparseTensor at 0x2cf941c7c18>"
      ]
     },
     "execution_count": 320,
     "metadata": {},
     "output_type": "execute_result"
    }
   ],
   "source": [
    "st1 = tf.SparseTensor(indices=[[0,3],[2,4]], values=[10,20], dense_shape=[3,10])\n",
    "st1"
   ]
  },
  {
   "cell_type": "code",
   "execution_count": 321,
   "id": "fc0a2783",
   "metadata": {},
   "outputs": [
    {
     "name": "stdout",
     "output_type": "stream",
     "text": [
      "SparseTensor(indices=Tensor(\"SparseTensor_2/indices:0\", shape=(2, 2), dtype=int64), values=Tensor(\"SparseTensor_2/values:0\", shape=(2,), dtype=int32), dense_shape=Tensor(\"SparseTensor_2/dense_shape:0\", shape=(2,), dtype=int64))\n"
     ]
    }
   ],
   "source": [
    "print(st1)"
   ]
  },
  {
   "cell_type": "markdown",
   "id": "a9d55393",
   "metadata": {},
   "source": [
    "# create Sparse Tensor from Dense(maximummvalue is non zero)"
   ]
  },
  {
   "cell_type": "code",
   "execution_count": 322,
   "id": "9c1a251b",
   "metadata": {},
   "outputs": [],
   "source": [
    "import numpy as np"
   ]
  },
  {
   "cell_type": "code",
   "execution_count": 323,
   "id": "8eff8add",
   "metadata": {},
   "outputs": [],
   "source": [
    "import tensorflow as tf"
   ]
  },
  {
   "cell_type": "code",
   "execution_count": 324,
   "id": "4d776f07",
   "metadata": {},
   "outputs": [
    {
     "data": {
      "text/plain": [
       "array([[1, 0, 0, 0],\n",
       "       [0, 0, 0, 0],\n",
       "       [0, 0, 2, 0],\n",
       "       [0, 0, 0, 4]])"
      ]
     },
     "execution_count": 324,
     "metadata": {},
     "output_type": "execute_result"
    }
   ],
   "source": [
    "np_array = np.array([[1,0,0,0],\n",
    "                     [0,0,0,0],\n",
    "                     [0,0,2,0],\n",
    "                     [0,0,0,4]])\n",
    "np_array"
   ]
  },
  {
   "cell_type": "code",
   "execution_count": 325,
   "id": "dd335aba",
   "metadata": {},
   "outputs": [
    {
     "data": {
      "text/plain": [
       "<tensorflow.python.framework.sparse_tensor.SparseTensor at 0x2cf93f53ac8>"
      ]
     },
     "execution_count": 325,
     "metadata": {},
     "output_type": "execute_result"
    }
   ],
   "source": [
    "st2_fd = tf.sparse.from_dense(np_array)\n",
    "st2_fd"
   ]
  },
  {
   "cell_type": "code",
   "execution_count": 326,
   "id": "7c5c8473",
   "metadata": {},
   "outputs": [
    {
     "name": "stdout",
     "output_type": "stream",
     "text": [
      "SparseTensor(indices=Tensor(\"dense_to_sparse_1/Where:0\", shape=(None, 2), dtype=int64), values=Tensor(\"dense_to_sparse_1/GatherNd:0\", shape=(None,), dtype=int32), dense_shape=Tensor(\"dense_to_sparse_1/Shape:0\", shape=(2,), dtype=int64))\n"
     ]
    }
   ],
   "source": [
    "print(st2_fd)"
   ]
  },
  {
   "cell_type": "markdown",
   "id": "5c975ffd",
   "metadata": {},
   "source": [
    "# Extract the values , indices & shape of shape of Sparse Tensor"
   ]
  },
  {
   "cell_type": "code",
   "execution_count": 327,
   "id": "ee329c67",
   "metadata": {},
   "outputs": [
    {
     "ename": "AttributeError",
     "evalue": "'Tensor' object has no attribute 'numpy'",
     "output_type": "error",
     "traceback": [
      "\u001b[1;31m---------------------------------------------------------------------------\u001b[0m",
      "\u001b[1;31mAttributeError\u001b[0m                            Traceback (most recent call last)",
      "\u001b[1;32m~\\AppData\\Local\\Temp\\ipykernel_14440\\3641748037.py\u001b[0m in \u001b[0;36m<module>\u001b[1;34m\u001b[0m\n\u001b[1;32m----> 1\u001b[1;33m \u001b[0mst2_fd\u001b[0m\u001b[1;33m.\u001b[0m\u001b[0mvalues\u001b[0m\u001b[1;33m.\u001b[0m\u001b[0mnumpy\u001b[0m\u001b[1;33m(\u001b[0m\u001b[1;33m)\u001b[0m\u001b[1;33m.\u001b[0m\u001b[0mtolist\u001b[0m\u001b[1;33m(\u001b[0m\u001b[1;33m)\u001b[0m\u001b[1;33m\u001b[0m\u001b[1;33m\u001b[0m\u001b[0m\n\u001b[0m",
      "\u001b[1;32mD:\\conda\\envs\\tensorflow\\lib\\site-packages\\tensorflow\\python\\framework\\ops.py\u001b[0m in \u001b[0;36m__getattr__\u001b[1;34m(self, name)\u001b[0m\n\u001b[0;32m    444\u001b[0m         \u001b[0mnp_config\u001b[0m\u001b[1;33m.\u001b[0m\u001b[0menable_numpy_behavior\u001b[0m\u001b[1;33m(\u001b[0m\u001b[1;33m)\u001b[0m\u001b[1;33m\u001b[0m\u001b[1;33m\u001b[0m\u001b[0m\n\u001b[0;32m    445\u001b[0m       \"\"\")\n\u001b[1;32m--> 446\u001b[1;33m     \u001b[0mself\u001b[0m\u001b[1;33m.\u001b[0m\u001b[0m__getattribute__\u001b[0m\u001b[1;33m(\u001b[0m\u001b[0mname\u001b[0m\u001b[1;33m)\u001b[0m\u001b[1;33m\u001b[0m\u001b[1;33m\u001b[0m\u001b[0m\n\u001b[0m\u001b[0;32m    447\u001b[0m \u001b[1;33m\u001b[0m\u001b[0m\n\u001b[0;32m    448\u001b[0m   \u001b[1;33m@\u001b[0m\u001b[0mstaticmethod\u001b[0m\u001b[1;33m\u001b[0m\u001b[1;33m\u001b[0m\u001b[0m\n",
      "\u001b[1;31mAttributeError\u001b[0m: 'Tensor' object has no attribute 'numpy'"
     ]
    }
   ],
   "source": [
    "st2_fd.values.numpy().tolist()"
   ]
  },
  {
   "cell_type": "code",
   "execution_count": 328,
   "id": "4197e592",
   "metadata": {},
   "outputs": [],
   "source": [
    "#sparse tensor to dense"
   ]
  },
  {
   "cell_type": "code",
   "execution_count": 329,
   "id": "8446a14c",
   "metadata": {},
   "outputs": [
    {
     "data": {
      "text/plain": [
       "<tf.Tensor 'SparseToDense_2:0' shape=(4, 4) dtype=int32>"
      ]
     },
     "execution_count": 329,
     "metadata": {},
     "output_type": "execute_result"
    }
   ],
   "source": [
    "dt_fst = tf.sparse.to_dense(st2_fd)\n",
    "dt_fst"
   ]
  },
  {
   "cell_type": "code",
   "execution_count": 330,
   "id": "2db18918",
   "metadata": {},
   "outputs": [
    {
     "ename": "AttributeError",
     "evalue": "'Tensor' object has no attribute 'numpy'",
     "output_type": "error",
     "traceback": [
      "\u001b[1;31m---------------------------------------------------------------------------\u001b[0m",
      "\u001b[1;31mAttributeError\u001b[0m                            Traceback (most recent call last)",
      "\u001b[1;32m~\\AppData\\Local\\Temp\\ipykernel_14440\\1266131481.py\u001b[0m in \u001b[0;36m<module>\u001b[1;34m\u001b[0m\n\u001b[1;32m----> 1\u001b[1;33m \u001b[0mdt_fst\u001b[0m\u001b[1;33m.\u001b[0m\u001b[0mnumpy\u001b[0m\u001b[1;33m(\u001b[0m\u001b[1;33m)\u001b[0m\u001b[1;33m\u001b[0m\u001b[1;33m\u001b[0m\u001b[0m\n\u001b[0m",
      "\u001b[1;32mD:\\conda\\envs\\tensorflow\\lib\\site-packages\\tensorflow\\python\\framework\\ops.py\u001b[0m in \u001b[0;36m__getattr__\u001b[1;34m(self, name)\u001b[0m\n\u001b[0;32m    444\u001b[0m         \u001b[0mnp_config\u001b[0m\u001b[1;33m.\u001b[0m\u001b[0menable_numpy_behavior\u001b[0m\u001b[1;33m(\u001b[0m\u001b[1;33m)\u001b[0m\u001b[1;33m\u001b[0m\u001b[1;33m\u001b[0m\u001b[0m\n\u001b[0;32m    445\u001b[0m       \"\"\")\n\u001b[1;32m--> 446\u001b[1;33m     \u001b[0mself\u001b[0m\u001b[1;33m.\u001b[0m\u001b[0m__getattribute__\u001b[0m\u001b[1;33m(\u001b[0m\u001b[0mname\u001b[0m\u001b[1;33m)\u001b[0m\u001b[1;33m\u001b[0m\u001b[1;33m\u001b[0m\u001b[0m\n\u001b[0m\u001b[0;32m    447\u001b[0m \u001b[1;33m\u001b[0m\u001b[0m\n\u001b[0;32m    448\u001b[0m   \u001b[1;33m@\u001b[0m\u001b[0mstaticmethod\u001b[0m\u001b[1;33m\u001b[0m\u001b[1;33m\u001b[0m\u001b[0m\n",
      "\u001b[1;31mAttributeError\u001b[0m: 'Tensor' object has no attribute 'numpy'"
     ]
    }
   ],
   "source": [
    "dt_fst.numpy()"
   ]
  },
  {
   "cell_type": "code",
   "execution_count": null,
   "id": "14014d58",
   "metadata": {},
   "outputs": [],
   "source": []
  },
  {
   "cell_type": "markdown",
   "id": "4881010f",
   "metadata": {},
   "source": [
    "# Mathematical operation on Sparse Tensor"
   ]
  },
  {
   "cell_type": "code",
   "execution_count": 331,
   "id": "80dc80ad",
   "metadata": {},
   "outputs": [
    {
     "data": {
      "text/plain": [
       "<tensorflow.python.framework.sparse_tensor.SparseTensor at 0x2cf94222c50>"
      ]
     },
     "execution_count": 331,
     "metadata": {},
     "output_type": "execute_result"
    }
   ],
   "source": [
    "st_add = tf.sparse.add(st2_fd,st2_fd)\n",
    "st_add"
   ]
  },
  {
   "cell_type": "code",
   "execution_count": 332,
   "id": "2373f555",
   "metadata": {},
   "outputs": [
    {
     "name": "stdout",
     "output_type": "stream",
     "text": [
      "SparseTensor(indices=Tensor(\"SparseAdd_1:0\", shape=(None, 2), dtype=int64), values=Tensor(\"SparseAdd_1:1\", shape=(None,), dtype=int32), dense_shape=Tensor(\"SparseTensor_3/dense_shape:0\", shape=(2,), dtype=int64))\n"
     ]
    }
   ],
   "source": [
    "print(st_add)"
   ]
  },
  {
   "cell_type": "code",
   "execution_count": 333,
   "id": "4eed462a",
   "metadata": {},
   "outputs": [
    {
     "ename": "AttributeError",
     "evalue": "'Tensor' object has no attribute 'numpy'",
     "output_type": "error",
     "traceback": [
      "\u001b[1;31m---------------------------------------------------------------------------\u001b[0m",
      "\u001b[1;31mAttributeError\u001b[0m                            Traceback (most recent call last)",
      "\u001b[1;32m~\\AppData\\Local\\Temp\\ipykernel_14440\\279770958.py\u001b[0m in \u001b[0;36m<module>\u001b[1;34m\u001b[0m\n\u001b[1;32m----> 1\u001b[1;33m \u001b[0mtf\u001b[0m\u001b[1;33m.\u001b[0m\u001b[0msparse\u001b[0m\u001b[1;33m.\u001b[0m\u001b[0mto_dense\u001b[0m\u001b[1;33m(\u001b[0m\u001b[0mst_add\u001b[0m\u001b[1;33m)\u001b[0m\u001b[1;33m.\u001b[0m\u001b[0mnumpy\u001b[0m\u001b[1;33m(\u001b[0m\u001b[1;33m)\u001b[0m\u001b[1;33m\u001b[0m\u001b[1;33m\u001b[0m\u001b[0m\n\u001b[0m",
      "\u001b[1;32mD:\\conda\\envs\\tensorflow\\lib\\site-packages\\tensorflow\\python\\framework\\ops.py\u001b[0m in \u001b[0;36m__getattr__\u001b[1;34m(self, name)\u001b[0m\n\u001b[0;32m    444\u001b[0m         \u001b[0mnp_config\u001b[0m\u001b[1;33m.\u001b[0m\u001b[0menable_numpy_behavior\u001b[0m\u001b[1;33m(\u001b[0m\u001b[1;33m)\u001b[0m\u001b[1;33m\u001b[0m\u001b[1;33m\u001b[0m\u001b[0m\n\u001b[0;32m    445\u001b[0m       \"\"\")\n\u001b[1;32m--> 446\u001b[1;33m     \u001b[0mself\u001b[0m\u001b[1;33m.\u001b[0m\u001b[0m__getattribute__\u001b[0m\u001b[1;33m(\u001b[0m\u001b[0mname\u001b[0m\u001b[1;33m)\u001b[0m\u001b[1;33m\u001b[0m\u001b[1;33m\u001b[0m\u001b[0m\n\u001b[0m\u001b[0;32m    447\u001b[0m \u001b[1;33m\u001b[0m\u001b[0m\n\u001b[0;32m    448\u001b[0m   \u001b[1;33m@\u001b[0m\u001b[0mstaticmethod\u001b[0m\u001b[1;33m\u001b[0m\u001b[1;33m\u001b[0m\u001b[0m\n",
      "\u001b[1;31mAttributeError\u001b[0m: 'Tensor' object has no attribute 'numpy'"
     ]
    }
   ],
   "source": [
    "tf.sparse.to_dense(st_add).numpy()"
   ]
  },
  {
   "cell_type": "markdown",
   "id": "afe88329",
   "metadata": {},
   "source": [
    "# How to create Tensor with every elements are one in TensorFlow 2.x"
   ]
  },
  {
   "cell_type": "markdown",
   "id": "3ac88fc1",
   "metadata": {},
   "source": [
    "# Import TensorFlow 2"
   ]
  },
  {
   "cell_type": "code",
   "execution_count": 334,
   "id": "0a8163a8",
   "metadata": {},
   "outputs": [],
   "source": [
    "import tensorflow as tf"
   ]
  },
  {
   "cell_type": "markdown",
   "id": "62bab5aa",
   "metadata": {},
   "source": [
    "# tf.ones()\n",
    "#create a tensor with all elements set to one (1)"
   ]
  },
  {
   "cell_type": "code",
   "execution_count": 335,
   "id": "804754c5",
   "metadata": {},
   "outputs": [
    {
     "data": {
      "text/plain": [
       "<tf.Tensor 'ones_4:0' shape=(2, 2) dtype=float32>"
      ]
     },
     "execution_count": 335,
     "metadata": {},
     "output_type": "execute_result"
    }
   ],
   "source": [
    "ones_2dt=tf.ones((2,2), tf.float32)\n",
    "ones_2dt"
   ]
  },
  {
   "cell_type": "code",
   "execution_count": 336,
   "id": "7f5c40bf",
   "metadata": {},
   "outputs": [
    {
     "data": {
      "text/plain": [
       "<tf.Tensor 'ones_5:0' shape=(2, 2, 4) dtype=float32>"
      ]
     },
     "execution_count": 336,
     "metadata": {},
     "output_type": "execute_result"
    }
   ],
   "source": [
    "ones_3dt=tf.ones((2,2,4), tf.float32)\n",
    "ones_3dt"
   ]
  },
  {
   "cell_type": "markdown",
   "id": "421c0eb7",
   "metadata": {},
   "source": [
    "# tf.ones_like()\n",
    "#Creates a tensor of all ones that has the same shape as the input"
   ]
  },
  {
   "cell_type": "code",
   "execution_count": 337,
   "id": "a0129159",
   "metadata": {},
   "outputs": [
    {
     "ename": "NameError",
     "evalue": "name 'const_2dt' is not defined",
     "output_type": "error",
     "traceback": [
      "\u001b[1;31m---------------------------------------------------------------------------\u001b[0m",
      "\u001b[1;31mNameError\u001b[0m                                 Traceback (most recent call last)",
      "\u001b[1;32m~\\AppData\\Local\\Temp\\ipykernel_14440\\258136049.py\u001b[0m in \u001b[0;36m<module>\u001b[1;34m\u001b[0m\n\u001b[0;32m      1\u001b[0m \u001b[0mcont_2dt\u001b[0m\u001b[1;33m=\u001b[0m\u001b[0mtf\u001b[0m\u001b[1;33m.\u001b[0m\u001b[0mconstant\u001b[0m\u001b[1;33m(\u001b[0m\u001b[1;33m[\u001b[0m\u001b[1;33m[\u001b[0m\u001b[1;36m1\u001b[0m\u001b[1;33m,\u001b[0m\u001b[1;36m2\u001b[0m\u001b[1;33m,\u001b[0m\u001b[1;36m3\u001b[0m\u001b[1;33m]\u001b[0m\u001b[1;33m,\u001b[0m\u001b[1;33m[\u001b[0m\u001b[1;36m4\u001b[0m\u001b[1;33m,\u001b[0m\u001b[1;36m5\u001b[0m\u001b[1;33m,\u001b[0m\u001b[1;36m6\u001b[0m\u001b[1;33m]\u001b[0m\u001b[1;33m]\u001b[0m\u001b[1;33m)\u001b[0m\u001b[1;33m\u001b[0m\u001b[1;33m\u001b[0m\u001b[0m\n\u001b[1;32m----> 2\u001b[1;33m \u001b[0mconst_2dt\u001b[0m\u001b[1;33m\u001b[0m\u001b[1;33m\u001b[0m\u001b[0m\n\u001b[0m",
      "\u001b[1;31mNameError\u001b[0m: name 'const_2dt' is not defined"
     ]
    }
   ],
   "source": [
    "cont_2dt=tf.constant([[1,2,3],[4,5,6]])\n",
    "const_2dt"
   ]
  },
  {
   "cell_type": "code",
   "execution_count": 338,
   "id": "130273f2",
   "metadata": {},
   "outputs": [
    {
     "data": {
      "text/plain": [
       "<tf.Tensor 'ones_like_2:0' shape=(2, 3) dtype=float32>"
      ]
     },
     "execution_count": 338,
     "metadata": {},
     "output_type": "execute_result"
    }
   ],
   "source": [
    "ones_2dt_from_cont = tf.ones_like(cont_2dt , tf.float32)\n",
    "ones_2dt_from_cont"
   ]
  },
  {
   "cell_type": "code",
   "execution_count": 339,
   "id": "3241ebd1",
   "metadata": {},
   "outputs": [
    {
     "data": {
      "text/plain": [
       "<tf.Variable 'Variable_24:0' shape=(2, 3) dtype=int32>"
      ]
     },
     "execution_count": 339,
     "metadata": {},
     "output_type": "execute_result"
    }
   ],
   "source": [
    "var_2dt_from_var = tf.Variable([[1,2,3],[4,5,6]])\n",
    "var_2dt_from_var"
   ]
  },
  {
   "cell_type": "code",
   "execution_count": 340,
   "id": "214c378c",
   "metadata": {},
   "outputs": [
    {
     "data": {
      "text/plain": [
       "<tf.Tensor 'ones_like_3:0' shape=(2, 3) dtype=int32>"
      ]
     },
     "execution_count": 340,
     "metadata": {},
     "output_type": "execute_result"
    }
   ],
   "source": [
    "ones_2dt_from_var = tf.ones_like(var_2dt_from_var , tf.int32)\n",
    "ones_2dt_from_var"
   ]
  },
  {
   "cell_type": "markdown",
   "id": "9c1db7bf",
   "metadata": {},
   "source": [
    "# tf.ones_initialize()"
   ]
  },
  {
   "cell_type": "code",
   "execution_count": 341,
   "id": "564b577b",
   "metadata": {},
   "outputs": [],
   "source": [
    "#Initializer that generates tensors initialized to 1\n",
    "# initializers allow you to pre-specify an initialization strategy ,encoded in the initializer object without knowing the shape and dtype of the variable being initialized"
   ]
  },
  {
   "cell_type": "code",
   "execution_count": 342,
   "id": "8c77d496",
   "metadata": {},
   "outputs": [],
   "source": [
    "def ones_variable(shape,dtype,initializer):\n",
    "    return tf.Variable(initializer(shape=shape,dtype=dtype))"
   ]
  },
  {
   "cell_type": "code",
   "execution_count": 343,
   "id": "98423415",
   "metadata": {},
   "outputs": [
    {
     "data": {
      "text/plain": [
       "<tf.Variable 'Variable_25:0' shape=(2, 2) dtype=float32>"
      ]
     },
     "execution_count": 343,
     "metadata": {},
     "output_type": "execute_result"
    }
   ],
   "source": [
    "ones_variable((2,2), tf.float32, tf.ones_initializer())"
   ]
  },
  {
   "cell_type": "code",
   "execution_count": 344,
   "id": "75de5852",
   "metadata": {},
   "outputs": [
    {
     "data": {
      "text/plain": [
       "<tf.Variable 'Variable_26:0' shape=(2, 3, 5) dtype=int32>"
      ]
     },
     "execution_count": 344,
     "metadata": {},
     "output_type": "execute_result"
    }
   ],
   "source": [
    "ones_variable((2,3,5), tf.int32,  tf.ones_initializer())"
   ]
  },
  {
   "cell_type": "markdown",
   "id": "d475a557",
   "metadata": {},
   "source": [
    "# How to create Tensor with every elements are zeros in Rensorflow 2.x"
   ]
  },
  {
   "cell_type": "code",
   "execution_count": 345,
   "id": "2aad79cc",
   "metadata": {},
   "outputs": [],
   "source": [
    "#Import TensorFlow 2"
   ]
  },
  {
   "cell_type": "code",
   "execution_count": 346,
   "id": "6da57ee0",
   "metadata": {},
   "outputs": [],
   "source": [
    "import tensorflow as tf"
   ]
  },
  {
   "cell_type": "markdown",
   "id": "65c2c4c8",
   "metadata": {},
   "source": [
    "# tf.zeros()\n",
    "#creates a tensor with all elements set to zero"
   ]
  },
  {
   "cell_type": "code",
   "execution_count": 347,
   "id": "68cde9c1",
   "metadata": {},
   "outputs": [
    {
     "data": {
      "text/plain": [
       "<tf.Tensor 'zeros_9:0' shape=(2, 2) dtype=int32>"
      ]
     },
     "execution_count": 347,
     "metadata": {},
     "output_type": "execute_result"
    }
   ],
   "source": [
    "zeros_2dt = tf.zeros((2,2), dtype=tf.int32)\n",
    "zeros_2dt"
   ]
  },
  {
   "cell_type": "markdown",
   "id": "afb70ce5",
   "metadata": {},
   "source": [
    "# tf.zeros_like()\n",
    "creates a tnsor with all elements set to zero"
   ]
  },
  {
   "cell_type": "code",
   "execution_count": 348,
   "id": "77cfb5f5",
   "metadata": {},
   "outputs": [
    {
     "data": {
      "text/plain": [
       "<tf.Tensor 'zeros_10:0' shape=(2, 2, 4) dtype=int8>"
      ]
     },
     "execution_count": 348,
     "metadata": {},
     "output_type": "execute_result"
    }
   ],
   "source": [
    "zeros_3dt = tf.zeros((2,2,4), dtype=tf.int8)\n",
    "zeros_3dt"
   ]
  },
  {
   "cell_type": "code",
   "execution_count": 349,
   "id": "0f2fd783",
   "metadata": {},
   "outputs": [
    {
     "data": {
      "text/plain": [
       "TensorShape([2, 2, 4])"
      ]
     },
     "execution_count": 349,
     "metadata": {},
     "output_type": "execute_result"
    }
   ],
   "source": [
    "zeros_3dt.shape"
   ]
  },
  {
   "cell_type": "code",
   "execution_count": 350,
   "id": "c3820288",
   "metadata": {},
   "outputs": [
    {
     "data": {
      "text/plain": [
       "tf.int8"
      ]
     },
     "execution_count": 350,
     "metadata": {},
     "output_type": "execute_result"
    }
   ],
   "source": [
    "zeros_3dt.dtype"
   ]
  },
  {
   "cell_type": "code",
   "execution_count": 351,
   "id": "2dce4299",
   "metadata": {},
   "outputs": [
    {
     "ename": "AttributeError",
     "evalue": "'Tensor' object has no attribute 'numpy'",
     "output_type": "error",
     "traceback": [
      "\u001b[1;31m---------------------------------------------------------------------------\u001b[0m",
      "\u001b[1;31mAttributeError\u001b[0m                            Traceback (most recent call last)",
      "\u001b[1;32m~\\AppData\\Local\\Temp\\ipykernel_14440\\1741824247.py\u001b[0m in \u001b[0;36m<module>\u001b[1;34m\u001b[0m\n\u001b[1;32m----> 1\u001b[1;33m \u001b[0mzeros_3dt\u001b[0m\u001b[1;33m.\u001b[0m\u001b[0mnumpy\u001b[0m\u001b[1;33m(\u001b[0m\u001b[1;33m)\u001b[0m\u001b[1;33m\u001b[0m\u001b[1;33m\u001b[0m\u001b[0m\n\u001b[0m",
      "\u001b[1;32mD:\\conda\\envs\\tensorflow\\lib\\site-packages\\tensorflow\\python\\framework\\ops.py\u001b[0m in \u001b[0;36m__getattr__\u001b[1;34m(self, name)\u001b[0m\n\u001b[0;32m    444\u001b[0m         \u001b[0mnp_config\u001b[0m\u001b[1;33m.\u001b[0m\u001b[0menable_numpy_behavior\u001b[0m\u001b[1;33m(\u001b[0m\u001b[1;33m)\u001b[0m\u001b[1;33m\u001b[0m\u001b[1;33m\u001b[0m\u001b[0m\n\u001b[0;32m    445\u001b[0m       \"\"\")\n\u001b[1;32m--> 446\u001b[1;33m     \u001b[0mself\u001b[0m\u001b[1;33m.\u001b[0m\u001b[0m__getattribute__\u001b[0m\u001b[1;33m(\u001b[0m\u001b[0mname\u001b[0m\u001b[1;33m)\u001b[0m\u001b[1;33m\u001b[0m\u001b[1;33m\u001b[0m\u001b[0m\n\u001b[0m\u001b[0;32m    447\u001b[0m \u001b[1;33m\u001b[0m\u001b[0m\n\u001b[0;32m    448\u001b[0m   \u001b[1;33m@\u001b[0m\u001b[0mstaticmethod\u001b[0m\u001b[1;33m\u001b[0m\u001b[1;33m\u001b[0m\u001b[0m\n",
      "\u001b[1;31mAttributeError\u001b[0m: 'Tensor' object has no attribute 'numpy'"
     ]
    }
   ],
   "source": [
    "zeros_3dt.numpy()"
   ]
  },
  {
   "cell_type": "code",
   "execution_count": null,
   "id": "34b72043",
   "metadata": {},
   "outputs": [],
   "source": [
    "\n",
    "zeros_3dt.numpy().tolist"
   ]
  },
  {
   "cell_type": "markdown",
   "id": "3213a5be",
   "metadata": {},
   "source": [
    "# tf.zeros_like()\n",
    "create a tensor with all elements set to zero"
   ]
  },
  {
   "cell_type": "code",
   "execution_count": null,
   "id": "3c25a75f",
   "metadata": {},
   "outputs": [],
   "source": [
    "cont_2dt= tf.constant([[1,2,3],[4,5,6]])\n",
    "cont_2dt"
   ]
  },
  {
   "cell_type": "code",
   "execution_count": null,
   "id": "ac3c2715",
   "metadata": {},
   "outputs": [],
   "source": [
    "tf.zeros_like(cont_2dt)"
   ]
  },
  {
   "cell_type": "code",
   "execution_count": null,
   "id": "67ec877c",
   "metadata": {},
   "outputs": [],
   "source": [
    "z1_2dt_from_cont = tf.zeros_like(cont_2dt)\n",
    "z1_2dt_from_cont"
   ]
  },
  {
   "cell_type": "code",
   "execution_count": null,
   "id": "ab057f7f",
   "metadata": {},
   "outputs": [],
   "source": [
    "var_2dt = tf.Variable([[1,2,3],[4,5,6]])\n",
    "var_2dt"
   ]
  },
  {
   "cell_type": "code",
   "execution_count": null,
   "id": "625bd548",
   "metadata": {},
   "outputs": [],
   "source": [
    "z1_2dt_from_cont = tf.zeros_like(var_2dt)\n",
    "z1_2dt_from_cont"
   ]
  },
  {
   "cell_type": "markdown",
   "id": "692f4d58",
   "metadata": {},
   "source": [
    "# tf.zeros_Initializer()\n",
    "#Initializer that gennerates tensor initialized to 0\n",
    "Initializer allow you to pre-specify an initialization strategy, encoded in the initializer object ,without knowing the shape and dtype of the variable being initialized."
   ]
  },
  {
   "cell_type": "code",
   "execution_count": null,
   "id": "6c4fbb13",
   "metadata": {},
   "outputs": [],
   "source": [
    "def zeros_variable(shape,dtype,initializer):\n",
    "    return tf.Variable(initializer(shape=shape, dtype=dtype))"
   ]
  },
  {
   "cell_type": "code",
   "execution_count": null,
   "id": "d5121b19",
   "metadata": {},
   "outputs": [],
   "source": [
    "zi_t_var = zeros_variable((2,2), tf.float32, tf.zeros_initializer())\n",
    "zi_t_var"
   ]
  },
  {
   "cell_type": "code",
   "execution_count": null,
   "id": "5c77d77a",
   "metadata": {},
   "outputs": [],
   "source": [
    "zeros_variable((3,2,5), tf.bool, tf.zeros_initializer())"
   ]
  },
  {
   "cell_type": "code",
   "execution_count": null,
   "id": "7f6cdd3f",
   "metadata": {},
   "outputs": [],
   "source": [
    "tf.Variable(tf.zeros_initializer()((2,2), tf.float32))"
   ]
  },
  {
   "cell_type": "markdown",
   "id": "293d578d",
   "metadata": {},
   "source": [
    "# How to addition/add of Tensors in TensorFlow"
   ]
  },
  {
   "cell_type": "markdown",
   "id": "9ddb5d61",
   "metadata": {},
   "source": [
    "tf.add() Do element wise addition,\n",
    "it can be add list,tuple,scalar,\n",
    "tf variable/constanr/placeholder/SparseMatrix with eachother and with scalar and with list/tuple"
   ]
  },
  {
   "cell_type": "code",
   "execution_count": null,
   "id": "bbd84856",
   "metadata": {},
   "outputs": [],
   "source": [
    "import tensorflow as tf\n",
    "import numpy as np"
   ]
  },
  {
   "cell_type": "markdown",
   "id": "af191c85",
   "metadata": {},
   "source": [
    "# Scaler Adding"
   ]
  },
  {
   "cell_type": "code",
   "execution_count": null,
   "id": "c6144f95",
   "metadata": {},
   "outputs": [],
   "source": [
    "a  =10\n",
    "b= 20"
   ]
  },
  {
   "cell_type": "code",
   "execution_count": null,
   "id": "44f54cb4",
   "metadata": {},
   "outputs": [],
   "source": [
    "a+b"
   ]
  },
  {
   "cell_type": "code",
   "execution_count": null,
   "id": "f4acc9c8",
   "metadata": {},
   "outputs": [],
   "source": [
    "tf.add(a,b)"
   ]
  },
  {
   "cell_type": "markdown",
   "id": "3eb2ec23",
   "metadata": {},
   "source": [
    "# Add 2 List"
   ]
  },
  {
   "cell_type": "code",
   "execution_count": null,
   "id": "d7345e63",
   "metadata": {},
   "outputs": [],
   "source": [
    "l1 = [1,2,3,4]\n",
    "l2 = [5,6,7,8]\n",
    "tf.add(l1,l2)"
   ]
  },
  {
   "cell_type": "markdown",
   "id": "a78e7662",
   "metadata": {},
   "source": [
    "# Add 2 Tuple"
   ]
  },
  {
   "cell_type": "code",
   "execution_count": null,
   "id": "6aa6b572",
   "metadata": {},
   "outputs": [],
   "source": [
    "t1 = (1,2,3,4)\n",
    "t2 = (5,6,7,8)\n",
    "\n",
    "\n",
    "tf.add(t1,t2)"
   ]
  },
  {
   "cell_type": "markdown",
   "id": "a5490678",
   "metadata": {},
   "source": [
    "# Add List/Tuple with Scaler"
   ]
  },
  {
   "cell_type": "code",
   "execution_count": null,
   "id": "6d2e0f07",
   "metadata": {},
   "outputs": [],
   "source": [
    "l1 = [1,2,3,4]\n",
    "a = 10\n",
    "tf.add(l1,a)"
   ]
  },
  {
   "cell_type": "markdown",
   "id": "13a96eb7",
   "metadata": {},
   "source": [
    "# Addition of 2 list/tuple with different size"
   ]
  },
  {
   "cell_type": "code",
   "execution_count": null,
   "id": "223354fa",
   "metadata": {},
   "outputs": [],
   "source": [
    "l1 = [1,2,3,4]\n",
    "l2 = [5,6]\n",
    "tf.add(l1,l2)"
   ]
  },
  {
   "cell_type": "markdown",
   "id": "42f1f12c",
   "metadata": {},
   "source": [
    "# Add 2 Numpy Array"
   ]
  },
  {
   "cell_type": "code",
   "execution_count": null,
   "id": "2bc79e13",
   "metadata": {},
   "outputs": [],
   "source": [
    "npa1 = np.array([1,2,3,4,5])\n",
    "npa2 = np.array([1,2,3,4,5])\n",
    "\n",
    "tf.add(npa1,npa2)"
   ]
  },
  {
   "cell_type": "markdown",
   "id": "b69ef834",
   "metadata": {},
   "source": [
    "# Add Numpy array with Scalar"
   ]
  },
  {
   "cell_type": "code",
   "execution_count": null,
   "id": "42d57aa4",
   "metadata": {},
   "outputs": [],
   "source": [
    "npa1 = np.array([1,2,3,4,5])\n",
    "a = 10\n",
    "\n",
    "tf.add(npa1 , a)"
   ]
  },
  {
   "cell_type": "markdown",
   "id": "b2405a00",
   "metadata": {},
   "source": [
    "# Add Numpy array with single element np array"
   ]
  },
  {
   "cell_type": "code",
   "execution_count": null,
   "id": "e3f1f0b6",
   "metadata": {},
   "outputs": [],
   "source": [
    "npa1 = np.array([1,2,3,4,5])\n",
    "npa2 = np.array([1])\n",
    "\n",
    "tf.add(npa1,npa2)"
   ]
  },
  {
   "cell_type": "markdown",
   "id": "38959074",
   "metadata": {},
   "source": [
    "# Add 2 TF Constant Tensor"
   ]
  },
  {
   "cell_type": "code",
   "execution_count": null,
   "id": "dcda85da",
   "metadata": {},
   "outputs": [],
   "source": [
    "tf_ct1 = tf.constant([1,2,3,4])\n",
    "tf_ct2 = tf.constant([1,2,3,4])\n",
    "\n",
    "tf.add(tf_ct1, tf_ct2)"
   ]
  },
  {
   "cell_type": "markdown",
   "id": "7cffaa71",
   "metadata": {},
   "source": [
    "# Add TF Constant Tensor with Scaler"
   ]
  },
  {
   "cell_type": "code",
   "execution_count": null,
   "id": "336729f2",
   "metadata": {},
   "outputs": [],
   "source": [
    "tf_ct1 = tf.constant([1,2,3,4])\n",
    "a = 10\n",
    "tf.add(tf_ct1,a)"
   ]
  },
  {
   "cell_type": "markdown",
   "id": "49817d51",
   "metadata": {},
   "source": [
    "# Add 2 TF Variable"
   ]
  },
  {
   "cell_type": "code",
   "execution_count": null,
   "id": "f24e4e95",
   "metadata": {},
   "outputs": [],
   "source": [
    "tf_var1 = tf.Variable([1,2,3,4])\n",
    "tf_var2 = tf.Variable([1,2,3,4])\n",
    "\n",
    "tf.add(tf_var1,tf_var2)"
   ]
  },
  {
   "cell_type": "markdown",
   "id": "eb5368e2",
   "metadata": {},
   "source": [
    "# Add TF Variable with Scaler"
   ]
  },
  {
   "cell_type": "code",
   "execution_count": null,
   "id": "72374cd9",
   "metadata": {},
   "outputs": [],
   "source": [
    "tf_var1= tf.Variable([1,2,3,4])\n",
    "a = 10\n",
    "tf.add(tf_var1,a)"
   ]
  },
  {
   "cell_type": "markdown",
   "id": "f7cb7893",
   "metadata": {},
   "source": [
    "# Add 2 Numpy array with different Shape"
   ]
  },
  {
   "cell_type": "code",
   "execution_count": null,
   "id": "d5bb9ee5",
   "metadata": {},
   "outputs": [],
   "source": [
    "x = np.ones(6).reshape(1,2,1,3)\n",
    "x"
   ]
  },
  {
   "cell_type": "code",
   "execution_count": null,
   "id": "db48840b",
   "metadata": {},
   "outputs": [],
   "source": [
    "y = np.ones(6).reshape(2,1,3,1)\n",
    "y"
   ]
  },
  {
   "cell_type": "code",
   "execution_count": null,
   "id": "6090cbb5",
   "metadata": {},
   "outputs": [],
   "source": [
    "tf.add(x,y)"
   ]
  },
  {
   "cell_type": "code",
   "execution_count": null,
   "id": "848ece0d",
   "metadata": {},
   "outputs": [],
   "source": [
    "tf.add(x,y).shape.as_list()"
   ]
  },
  {
   "cell_type": "markdown",
   "id": "7fc01b66",
   "metadata": {},
   "source": [
    "# How to subtraction/subtract of Tensors in TensorFlow"
   ]
  },
  {
   "cell_type": "code",
   "execution_count": null,
   "id": "f13c9eea",
   "metadata": {},
   "outputs": [],
   "source": [
    "import tensorflow as tf\n",
    "import numpy as np"
   ]
  },
  {
   "cell_type": "markdown",
   "id": "67a73da7",
   "metadata": {},
   "source": [
    "# Scaler subtract"
   ]
  },
  {
   "cell_type": "code",
   "execution_count": null,
   "id": "49a25e38",
   "metadata": {},
   "outputs": [],
   "source": [
    "a = 10\n",
    "b = 20"
   ]
  },
  {
   "cell_type": "markdown",
   "id": "f923521d",
   "metadata": {},
   "source": [
    "# subtract 2 List"
   ]
  },
  {
   "cell_type": "code",
   "execution_count": null,
   "id": "cceb5b9b",
   "metadata": {},
   "outputs": [],
   "source": [
    "l1 = [1,2,3,4]\n",
    "l2 = [5,6,7,8]\n",
    "\n",
    "tf.subtract(l1,l2)"
   ]
  },
  {
   "cell_type": "markdown",
   "id": "5d5a36be",
   "metadata": {},
   "source": [
    "# subtract 2 Tuple"
   ]
  },
  {
   "cell_type": "code",
   "execution_count": null,
   "id": "b4728501",
   "metadata": {},
   "outputs": [],
   "source": [
    "t1 = (1,2,3,4)\n",
    "t2 = (5,6,7,8)\n",
    "\n",
    "tf.subtract(t1 , t2)"
   ]
  },
  {
   "cell_type": "markdown",
   "id": "7bf42bf7",
   "metadata": {},
   "source": [
    "# subtract of 2 list/Tuple with Different size"
   ]
  },
  {
   "cell_type": "code",
   "execution_count": null,
   "id": "875347cd",
   "metadata": {},
   "outputs": [],
   "source": [
    "l1 = [1,2,3,4]\n",
    "l2 = [5,6]\n",
    "\n",
    "tf.subtract(l1 , l2)"
   ]
  },
  {
   "cell_type": "markdown",
   "id": "74146ade",
   "metadata": {},
   "source": [
    "# subtract 2 Numpy Array"
   ]
  },
  {
   "cell_type": "code",
   "execution_count": null,
   "id": "79c2f85a",
   "metadata": {},
   "outputs": [],
   "source": [
    "pa1 = np.array([1,2,3,4,5])\n",
    "npa2 = np.array([1,2,3,4,5])\n",
    "\n",
    "tf.subtract(npa1,npa2)"
   ]
  },
  {
   "cell_type": "markdown",
   "id": "97c9331b",
   "metadata": {},
   "source": [
    "# subtract numpy array with scalar"
   ]
  },
  {
   "cell_type": "code",
   "execution_count": null,
   "id": "c54a7f0b",
   "metadata": {},
   "outputs": [],
   "source": [
    "npa1 = np.array([1,2,3,4,5])\n",
    "a = 10\n",
    "\n",
    "tf.add(npa1,a)"
   ]
  },
  {
   "cell_type": "markdown",
   "id": "ffff78a9",
   "metadata": {},
   "source": [
    "# Multiplication of Tensors using tf.multiply()"
   ]
  },
  {
   "cell_type": "code",
   "execution_count": null,
   "id": "39449a91",
   "metadata": {},
   "outputs": [],
   "source": [
    "import tensorflow as tf\n",
    "import numpy as np"
   ]
  },
  {
   "cell_type": "markdown",
   "id": "e1efc881",
   "metadata": {},
   "source": [
    "# scaler multiply"
   ]
  },
  {
   "cell_type": "code",
   "execution_count": null,
   "id": "16991caf",
   "metadata": {},
   "outputs": [],
   "source": [
    "a = 10\n",
    "b = 20\n",
    "a * b"
   ]
  },
  {
   "cell_type": "code",
   "execution_count": null,
   "id": "8cfcdf52",
   "metadata": {},
   "outputs": [],
   "source": [
    "tf.multiply(a,b)"
   ]
  },
  {
   "cell_type": "markdown",
   "id": "27aabe5f",
   "metadata": {},
   "source": [
    "# Multiply 2 List"
   ]
  },
  {
   "cell_type": "code",
   "execution_count": null,
   "id": "46c4f0a9",
   "metadata": {},
   "outputs": [],
   "source": [
    "l1 = [1,2,3,4]\n",
    "l2 = [5,6,7,8]\n",
    "\n",
    "tf.multiply(l1, l2)"
   ]
  },
  {
   "cell_type": "markdown",
   "id": "9f76f2b4",
   "metadata": {},
   "source": [
    "# Multiply 2 Tuple"
   ]
  },
  {
   "cell_type": "code",
   "execution_count": null,
   "id": "5896b524",
   "metadata": {},
   "outputs": [],
   "source": [
    "t1 = (1,2,3,4)\n",
    "t2 = (5,6,7,8)\n",
    "\n",
    "tf.add(t1,t2)"
   ]
  },
  {
   "cell_type": "markdown",
   "id": "b0abc640",
   "metadata": {},
   "source": [
    "# Multiply of 2 list/tuple with different size"
   ]
  },
  {
   "cell_type": "code",
   "execution_count": null,
   "id": "f67cb6a0",
   "metadata": {},
   "outputs": [],
   "source": [
    "l1 = [1,2,3,4]\n",
    "l2 = [5,6]\n",
    "\n",
    "tf.multiply(l1,l2)"
   ]
  },
  {
   "cell_type": "markdown",
   "id": "3ff8f53f",
   "metadata": {},
   "source": [
    "# multiply 2 numpy Array"
   ]
  },
  {
   "cell_type": "code",
   "execution_count": null,
   "id": "85f01075",
   "metadata": {},
   "outputs": [],
   "source": [
    "npa1 = np.array([1,2,3,4,5])\n",
    "npa2 = np.array([5,6,7,8,9])\n",
    "\n",
    "tf.multiply(npa1 , npa2)"
   ]
  },
  {
   "cell_type": "markdown",
   "id": "5a08bf86",
   "metadata": {},
   "source": [
    "# multiply numpy array with scaler"
   ]
  },
  {
   "cell_type": "code",
   "execution_count": null,
   "id": "f6d279bd",
   "metadata": {},
   "outputs": [],
   "source": [
    "npa1 = np.array([1,2,3,4,5])\n",
    "a = 10\n",
    "\n",
    "tf.multiply(npa1 , a)"
   ]
  },
  {
   "cell_type": "markdown",
   "id": "74d9b19f",
   "metadata": {},
   "source": [
    "# multiply numpy array with single element np array"
   ]
  },
  {
   "cell_type": "code",
   "execution_count": null,
   "id": "9c1af1a5",
   "metadata": {},
   "outputs": [],
   "source": [
    "npa1 = np.array([1,2,3,4,5])\n",
    "npa2 = np.array([[1]])\n",
    "\n",
    "tf.multiply(npa1,npa2)"
   ]
  },
  {
   "cell_type": "markdown",
   "id": "64958f68",
   "metadata": {},
   "source": [
    "# multiply TF constant tensor with scaler"
   ]
  },
  {
   "cell_type": "code",
   "execution_count": null,
   "id": "19f56a65",
   "metadata": {},
   "outputs": [],
   "source": [
    "tf_ct1 = tf.constant([1,2,3,4])\n",
    "a = 10\n",
    "\n",
    "tf.multiply(tf_ct1,a)"
   ]
  },
  {
   "cell_type": "markdown",
   "id": "51f2cf23",
   "metadata": {},
   "source": [
    "# Multiply 2 TF Variable"
   ]
  },
  {
   "cell_type": "code",
   "execution_count": null,
   "id": "886bac1b",
   "metadata": {},
   "outputs": [],
   "source": [
    "tf_vr1 = tf.Variable([1,2,3,4])\n",
    "tf_vr2 = tf.Variable([1,2,3,4])\n",
    "\n",
    "tf.multiply(tf_vr1, tf_vr2)"
   ]
  },
  {
   "cell_type": "markdown",
   "id": "59fd789c",
   "metadata": {},
   "source": [
    "# Multiply TF Variable with Scaler"
   ]
  },
  {
   "cell_type": "code",
   "execution_count": null,
   "id": "184fd216",
   "metadata": {},
   "outputs": [],
   "source": [
    "tf_vr1 = tf.Variable([1,2,3,4])\n",
    "a = 10\n",
    "\n",
    "\n",
    "tf.multiply(tf_vr1,a)"
   ]
  },
  {
   "cell_type": "code",
   "execution_count": null,
   "id": "845cd700",
   "metadata": {},
   "outputs": [],
   "source": [
    "x = np.ones(6).reshape(1,2,1,3)\n",
    "x"
   ]
  },
  {
   "cell_type": "code",
   "execution_count": null,
   "id": "c04d459d",
   "metadata": {},
   "outputs": [],
   "source": [
    "y = np.ones(6).reshape(2,1,3,1)\n",
    "y"
   ]
  },
  {
   "cell_type": "code",
   "execution_count": null,
   "id": "8e21837f",
   "metadata": {},
   "outputs": [],
   "source": [
    "tf.multiply(x,y)"
   ]
  },
  {
   "cell_type": "code",
   "execution_count": null,
   "id": "6acdd016",
   "metadata": {},
   "outputs": [],
   "source": [
    "tf.add(x,y).shape.as_list()"
   ]
  },
  {
   "cell_type": "markdown",
   "id": "6feaa630",
   "metadata": {},
   "source": [
    "# Division of Tesors"
   ]
  },
  {
   "cell_type": "code",
   "execution_count": null,
   "id": "5f83d50c",
   "metadata": {},
   "outputs": [],
   "source": [
    "import tensorflow as tf\n",
    "import numpy as np"
   ]
  },
  {
   "cell_type": "markdown",
   "id": "1e20a8dd",
   "metadata": {},
   "source": [
    "# Scaler division"
   ]
  },
  {
   "cell_type": "code",
   "execution_count": null,
   "id": "f66271b9",
   "metadata": {},
   "outputs": [],
   "source": [
    "a = 10\n",
    "b = 20\n",
    "\n",
    "a/b"
   ]
  },
  {
   "cell_type": "code",
   "execution_count": null,
   "id": "8a1c99f8",
   "metadata": {},
   "outputs": [],
   "source": [
    "a//b"
   ]
  },
  {
   "cell_type": "code",
   "execution_count": null,
   "id": "b474f361",
   "metadata": {},
   "outputs": [],
   "source": [
    "tf.divide(a,b)"
   ]
  },
  {
   "cell_type": "code",
   "execution_count": null,
   "id": "8f9c906a",
   "metadata": {},
   "outputs": [],
   "source": [
    "tf.divide(b,a)"
   ]
  },
  {
   "cell_type": "markdown",
   "id": "c3669173",
   "metadata": {},
   "source": [
    "# Divide 2 List"
   ]
  },
  {
   "cell_type": "code",
   "execution_count": null,
   "id": "060c886a",
   "metadata": {},
   "outputs": [],
   "source": [
    "l1 = [1,2,3,4]\n",
    "l2 = [5,6,7,8]\n",
    "tf.divide(l1,l2)"
   ]
  },
  {
   "cell_type": "markdown",
   "id": "738dfe2b",
   "metadata": {},
   "source": [
    "# Get Square Root of Tensors using tf.sqrt()"
   ]
  },
  {
   "cell_type": "code",
   "execution_count": null,
   "id": "6e38a1bc",
   "metadata": {},
   "outputs": [],
   "source": [
    "import tensorflow as tf\n",
    "import numpy as np"
   ]
  },
  {
   "cell_type": "markdown",
   "id": "ce7e7775",
   "metadata": {},
   "source": [
    "# Square Root of Scaler"
   ]
  },
  {
   "cell_type": "code",
   "execution_count": null,
   "id": "6a8ae974",
   "metadata": {},
   "outputs": [],
   "source": [
    "a = 9.0"
   ]
  },
  {
   "cell_type": "code",
   "execution_count": null,
   "id": "c240e930",
   "metadata": {},
   "outputs": [],
   "source": [
    "tf.sqrt(a)"
   ]
  },
  {
   "cell_type": "markdown",
   "id": "ae137e35",
   "metadata": {},
   "source": [
    "# Square Root of List"
   ]
  },
  {
   "cell_type": "code",
   "execution_count": null,
   "id": "71446675",
   "metadata": {},
   "outputs": [],
   "source": [
    "l1 = [4.0,9.0,16.0]\n",
    "tf.sqrt(l1)"
   ]
  },
  {
   "cell_type": "markdown",
   "id": "77893151",
   "metadata": {},
   "source": [
    "# Square Root of Tuple"
   ]
  },
  {
   "cell_type": "code",
   "execution_count": null,
   "id": "3ad930bd",
   "metadata": {},
   "outputs": [],
   "source": [
    "t1 = (4.0,9.0,16.0)\n",
    "tf.sqrt(t1)"
   ]
  },
  {
   "cell_type": "markdown",
   "id": "8da22d2e",
   "metadata": {},
   "source": [
    "# Square Root of Numy Array"
   ]
  },
  {
   "cell_type": "code",
   "execution_count": null,
   "id": "2ed6f160",
   "metadata": {},
   "outputs": [],
   "source": [
    "npa1 = np.array([4,9,16], dtype = np.float64)\n",
    "\n",
    "tf.sqrt(npa1)"
   ]
  },
  {
   "cell_type": "code",
   "execution_count": null,
   "id": "24b85ec9",
   "metadata": {},
   "outputs": [],
   "source": [
    "npa1.dtype"
   ]
  },
  {
   "cell_type": "code",
   "execution_count": null,
   "id": "47d12469",
   "metadata": {},
   "outputs": [],
   "source": [
    "y = np.ones(6).reshape(2,1,3,1)\n",
    "y"
   ]
  },
  {
   "cell_type": "code",
   "execution_count": null,
   "id": "0ce2bc63",
   "metadata": {},
   "outputs": [],
   "source": [
    "y.dtype"
   ]
  },
  {
   "cell_type": "code",
   "execution_count": null,
   "id": "ca6ba868",
   "metadata": {},
   "outputs": [],
   "source": [
    "tf.sqrt(y)"
   ]
  },
  {
   "cell_type": "markdown",
   "id": "ab0dd561",
   "metadata": {},
   "source": [
    "# Square Root of Tensor"
   ]
  },
  {
   "cell_type": "code",
   "execution_count": null,
   "id": "63e53d0c",
   "metadata": {},
   "outputs": [],
   "source": [
    "tf.sqrt(tf.convert_to_tensor(4, dtype='float'))"
   ]
  },
  {
   "cell_type": "code",
   "execution_count": null,
   "id": "a864a7e4",
   "metadata": {},
   "outputs": [],
   "source": [
    "tf.sqrt(tf.convert_to_tensor([4,9,16], dtype='float'))"
   ]
  },
  {
   "cell_type": "markdown",
   "id": "d289da47",
   "metadata": {},
   "source": [
    "# Square Root of TF Constant Tensor"
   ]
  },
  {
   "cell_type": "code",
   "execution_count": null,
   "id": "fb0794a9",
   "metadata": {},
   "outputs": [],
   "source": [
    "tf_ct1 = tf.constant([4,9,16], dtype='float')\n",
    "\n",
    "tf.sqrt(tf_ct1)"
   ]
  },
  {
   "cell_type": "markdown",
   "id": "7f63460e",
   "metadata": {},
   "source": [
    "# Square Root of TF Variable"
   ]
  },
  {
   "cell_type": "code",
   "execution_count": null,
   "id": "af5ebc32",
   "metadata": {},
   "outputs": [],
   "source": [
    "tf_vr1 = tf.Variable([4,9,16], dtype='half')\n",
    "\n",
    "tf.sqrt(tf_vr1)"
   ]
  },
  {
   "cell_type": "markdown",
   "id": "53553d24",
   "metadata": {},
   "source": [
    "# Calculate Power of Tensors using tf.pow()"
   ]
  },
  {
   "cell_type": "code",
   "execution_count": null,
   "id": "2c488fa4",
   "metadata": {},
   "outputs": [],
   "source": [
    "import tensorflow as tf\n",
    "import numpy as np"
   ]
  },
  {
   "cell_type": "markdown",
   "id": "b0a86ce4",
   "metadata": {},
   "source": [
    "# Power of Scaler"
   ]
  },
  {
   "cell_type": "code",
   "execution_count": null,
   "id": "e0146a05",
   "metadata": {},
   "outputs": [],
   "source": [
    "a = 4\n",
    "b = 2\n",
    "\n",
    "tf.pow(a,b)"
   ]
  },
  {
   "cell_type": "markdown",
   "id": "8d81c21c",
   "metadata": {},
   "source": [
    "# Power of Numpy Array"
   ]
  },
  {
   "cell_type": "code",
   "execution_count": null,
   "id": "4f89599e",
   "metadata": {},
   "outputs": [],
   "source": []
  },
  {
   "cell_type": "code",
   "execution_count": null,
   "id": "fbefda47",
   "metadata": {},
   "outputs": [],
   "source": []
  },
  {
   "cell_type": "markdown",
   "id": "e01180fe",
   "metadata": {},
   "source": [
    "# Get Maximum Value of Tensors using tf.maximum() math function"
   ]
  },
  {
   "cell_type": "markdown",
   "id": "52790caa",
   "metadata": {},
   "source": [
    "# tf.maximum() :--  Return themaximum value by comparing of x and y elemet wise"
   ]
  },
  {
   "cell_type": "code",
   "execution_count": null,
   "id": "e180270c",
   "metadata": {},
   "outputs": [],
   "source": []
  },
  {
   "cell_type": "code",
   "execution_count": null,
   "id": "02165394",
   "metadata": {},
   "outputs": [],
   "source": [
    "import tensorflow as tf\n",
    "import numpy as np"
   ]
  },
  {
   "cell_type": "markdown",
   "id": "078da548",
   "metadata": {},
   "source": [
    "# Get Max Value of Scaler"
   ]
  },
  {
   "cell_type": "code",
   "execution_count": 352,
   "id": "3ca34624",
   "metadata": {},
   "outputs": [
    {
     "data": {
      "text/plain": [
       "<tf.Tensor 'Maximum_9:0' shape=() dtype=int32>"
      ]
     },
     "execution_count": 352,
     "metadata": {},
     "output_type": "execute_result"
    }
   ],
   "source": [
    "a = 10\n",
    "b = 20\n",
    "\n",
    "\n",
    "a < b\n",
    "\n",
    "tf.maximum(a,b)"
   ]
  },
  {
   "cell_type": "code",
   "execution_count": null,
   "id": "ac32b8de",
   "metadata": {},
   "outputs": [],
   "source": []
  },
  {
   "cell_type": "code",
   "execution_count": null,
   "id": "3b21c5ac",
   "metadata": {},
   "outputs": [],
   "source": []
  },
  {
   "cell_type": "code",
   "execution_count": null,
   "id": "de33ee7b",
   "metadata": {},
   "outputs": [],
   "source": []
  }
 ],
 "metadata": {
  "kernelspec": {
   "display_name": "Python 3 (ipykernel)",
   "language": "python",
   "name": "python3"
  },
  "language_info": {
   "codemirror_mode": {
    "name": "ipython",
    "version": 3
   },
   "file_extension": ".py",
   "mimetype": "text/x-python",
   "name": "python",
   "nbconvert_exporter": "python",
   "pygments_lexer": "ipython3",
   "version": "3.7.1"
  }
 },
 "nbformat": 4,
 "nbformat_minor": 5
}
